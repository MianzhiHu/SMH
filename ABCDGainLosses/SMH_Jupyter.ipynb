{
 "cells": [
  {
   "cell_type": "code",
   "execution_count": 1,
   "id": "ce632f12",
   "metadata": {},
   "outputs": [],
   "source": [
    "var surveyCode = '';\n",
    "var creditToken = '';\n",
    "var studyURLID = 'https://tamupsychology.sona-systems.com/webstudy_credit.aspx?experiment_id=3183&credit_token=94d2b4a0f2a647e8ae4bafe146e07e2a&survey_code='\n",
    "\n",
    "// Matrices to hold experiment data\n",
    "var timeline = []; // Will hold the trial order\n",
    "var dataMatrix = []; // Holds javascript key press numbers to determine what option was choose in the previous trial\n",
    "var rewardMatrix = []; // Holds the reward value for each trial\n",
    "var choiceMatrix = []; // Holds the converted option numbers for each trial\n",
    "var bestMatrix = []; // 1 and 0 for best choice made on each trial\n",
    "var bonusRewardTotal = [];\n",
    "var reaction = [];\n",
    "var optRwd = []\n",
    "\n",
    "//   console.log(timeline)"
   ]
  },
  {
   "cell_type": "code",
   "execution_count": 4,
   "id": "f4270608",
   "metadata": {},
   "outputs": [
    {
     "ename": "SyntaxError",
     "evalue": "Identifier 'RwdMat' has already been declared",
     "output_type": "error",
     "traceback": [
      "evalmachine.<anonymous>:1",
      "var StudyNum = 0",
      "^",
      "",
      "SyntaxError: Identifier 'RwdMat' has already been declared",
      "    at Script.runInThisContext (node:vm:121:12)",
      "    at Object.runInThisContext (node:vm:295:38)",
      "    at run ([eval]:1020:15)",
      "    at onRunRequest ([eval]:864:18)",
      "    at onMessage ([eval]:828:13)",
      "    at process.emit (node:events:514:28)",
      "    at emit (node:internal/child_process:951:14)",
      "    at process.processTicksAndRejections (node:internal/process/task_queues:83:21)"
     ]
    }
   ],
   "source": [
    "var StudyNum = 0\n",
    "var RwdType = 2\n",
    "var VarType = 2\n",
    "var FreqType = 0\n",
    "\n",
    "// Experiment parameters and arrays\n",
    "var choiceSeen = 0\n",
    "var trialnum = 0;\n",
    "var rewardTotal = 0;\n",
    "var trainShow = 0\n",
    "var testShow = 0\n",
    "var sTime = 0\n",
    "var eTime = 0\n",
    "var fontsize = 2\n",
    "\n",
    "// Set up data arrays\n",
    "var stimuli = []\n",
    "var leftStim = []\n",
    "var rightStim = []\n",
    "var choseStim = []\n",
    "var currPhase = ''\n",
    "var nextFeed = ''\n",
    "\n",
    "// How many blocks?\n",
    "var trainBlockNum = 5\n",
    "var testBlockNum = 5\n",
    "\n",
    "// Define reward values\n",
    "const RwdMat = [[.70,.30,.70,.30],[.65,.35,.75,.25],[2.6,1.4,3.0,1.0]]\n",
    "\n",
    "// console.log(testBlockNum)"
   ]
  },
  {
   "cell_type": "code",
   "execution_count": 8,
   "id": "f2032625",
   "metadata": {},
   "outputs": [
    {
     "name": "stdout",
     "output_type": "stream",
     "text": [
      "[ 2.6, 1.4, 3, 1 ]\n",
      "[ 1.72, 1.72, 1.72, 1.72 ]\n",
      "[ 20, 10 ]\n"
     ]
    }
   ],
   "source": [
    "// Define frequency, and number of blocks per trial type\n",
    "var FreqMat = [[20,10],[15,15]]\n",
    "\n",
    "// Get reward values\n",
    "var RwdA = RwdMat[RwdType][0]\n",
    "var RwdB = RwdMat[RwdType][1]\n",
    "var RwdC = RwdMat[RwdType][2]\n",
    "var RwdD = RwdMat[RwdType][3]\n",
    "\n",
    "// get variance values\n",
    "var VarA = 1.72//VarMat[0][StudyNum][VarType]\n",
    "var VarB = 1.72//VarMat[1][StudyNum][VarType]\n",
    "var VarC = 1.72//VarMat[2][StudyNum][VarType]\n",
    "var VarD = 1.72//VarMat[3][StudyNum][VarType]\n",
    "\n",
    "var Freq = FreqMat[FreqType]\n",
    "\n",
    "//console.log([RwdA,RwdB,RwdC,RwdD])\n",
    "//console.log([VarA,VarB,VarC,VarD])\n",
    "//console.log(Freq)"
   ]
  },
  {
   "cell_type": "code",
   "execution_count": 15,
   "id": "4de53604",
   "metadata": {},
   "outputs": [
    {
     "ename": "TypeError",
     "evalue": "Cannot read properties of undefined (reading 'randomization')",
     "output_type": "error",
     "traceback": [
      "evalmachine.<anonymous>:6",
      "var ABOrder = jsPsych.randomization.shuffle(ABOrderInit);",
      "                      ^",
      "",
      "TypeError: Cannot read properties of undefined (reading 'randomization')",
      "    at evalmachine.<anonymous>:6:23",
      "    at Script.runInThisContext (node:vm:121:12)",
      "    at Object.runInThisContext (node:vm:295:38)",
      "    at run ([eval]:1020:15)",
      "    at onRunRequest ([eval]:864:18)",
      "    at onMessage ([eval]:828:13)",
      "    at process.emit (node:events:514:28)",
      "    at emit (node:internal/child_process:951:14)",
      "    at process.processTicksAndRejections (node:internal/process/task_queues:83:21)"
     ]
    }
   ],
   "source": [
    "// Determine order of AB -CD Pairings\n",
    "var ABFirst = Math.floor(Math.random() * 100);\n",
    "var CDFirst = Math.floor(Math.random() * 100);\n",
    "var ABOrderInit = [1, 2];\n",
    "var CDOrderInit = [3, 4];\n",
    "var ABOrder = jsPsych.randomization.shuffle(ABOrderInit);\n",
    "var CDOrder = jsPsych.randomization.shuffle(CDOrderInit);\n",
    "if (ABFirst >= CDFirst) {\n",
    "var orderMatrix = ABOrder.concat(CDOrder);\n",
    "} else {\n",
    "var orderMatrix = CDOrder.concat(ABOrder);\n",
    "}"
   ]
  },
  {
   "cell_type": "code",
   "execution_count": null,
   "id": "e4d116ef",
   "metadata": {},
   "outputs": [],
   "source": []
  }
 ],
 "metadata": {
  "kernelspec": {
   "display_name": "JavaScript (Node.js)",
   "language": "javascript",
   "name": "javascript"
  },
  "language_info": {
   "file_extension": ".js",
   "mimetype": "application/javascript",
   "name": "javascript",
   "version": "20.10.0"
  }
 },
 "nbformat": 4,
 "nbformat_minor": 5
}
